{
  "cells": [
    {
      "cell_type": "markdown",
      "id": "ffcb22fd",
      "metadata": {
        "id": "ffcb22fd"
      },
      "source": [
        "# Classificação de Empresas com Solução em Tratamento de Água\n"
      ]
    },
    {
      "cell_type": "markdown",
      "id": "de0e1681",
      "metadata": {
        "id": "de0e1681"
      },
      "source": [
        "# Descrição do arquivo Canada_amostra"
      ]
    },
    {
      "cell_type": "markdown",
      "id": "6d0f5db4",
      "metadata": {
        "id": "6d0f5db4"
      },
      "source": [
        "**Arquivo canada_amostra.csv**\n",
        "\n",
        "Descrições das colunas:\n",
        "\n",
        "name: nome da empresa;\n",
        "\n",
        "description: descrição do produto da empresa;\n",
        "\n",
        "employees: número de empregados da empresa;\n",
        "\n",
        "total_funding: Total de investimento já recebido pela empresa;\n",
        "\n",
        "city: cidade;\n",
        "\n",
        "subcountry: estado;\n",
        "\n",
        "lat: latitude da cidade;\n",
        "\n",
        "lng: Longitude da cidade.\n"
      ]
    },
    {
      "cell_type": "markdown",
      "source": [
        "# Pacote Principal"
      ],
      "metadata": {
        "id": "ENYbKlXKbkSQ"
      },
      "id": "ENYbKlXKbkSQ"
    },
    {
      "cell_type": "code",
      "execution_count": null,
      "id": "7b7ae93a",
      "metadata": {
        "id": "7b7ae93a"
      },
      "outputs": [],
      "source": [
        "import pandas as pd\n",
        "import numpy as np\n",
        "from sklearn.feature_extraction.text import TfidfVectorizer\n",
        "from sklearn.linear_model import LogisticRegression"
      ]
    },
    {
      "cell_type": "markdown",
      "source": [
        "# Pacote de Pré-processamento"
      ],
      "metadata": {
        "id": "ZqzFnlV-b0vA"
      },
      "id": "ZqzFnlV-b0vA"
    },
    {
      "cell_type": "code",
      "source": [
        "# Pré-processamento do texto para converter para minúsculas; retirar pontuação e caracteres especiais; remover palavras curtas; e tokenizar.\n",
        "def preprocesso(text):\n",
        "    text = text.lower()  # Minúsculas\n",
        "    text = text.replace(\"[^a-zA-Z0-9\\s]\", \"\")  # Remover pontuação\n",
        "    words = text.split()  # Tokenizar\n",
        "    words = [word for word in words if len(word) > 2]  # Remover palavras curtas\n",
        "    text = \" \".join(words)  # Reconstruir o texto\n",
        "    return text"
      ],
      "metadata": {
        "id": "_boiQWKwb5eo"
      },
      "id": "_boiQWKwb5eo",
      "execution_count": null,
      "outputs": []
    },
    {
      "cell_type": "markdown",
      "source": [
        "# Pacote de classificação"
      ],
      "metadata": {
        "id": "8I6j2wJZcqHr"
      },
      "id": "8I6j2wJZcqHr"
    },
    {
      "cell_type": "code",
      "source": [
        "def classificar(data):\n",
        "    # Separar os rótulos\n",
        "    y = data[\"atende\"] # atende é a variável target criada após o processo de classificação primário.\n",
        "    # Aplicar pré-processamento\n",
        "    data[\"description\"] = data[\"description\"].apply(preprocesso)\n",
        "\n",
        "    # Vetorizar o texto\n",
        "    # Eu utilizei o TF-IDF porque ele é um método de vetorização de texto que é eficaz para tarefas de classificação de texto.\n",
        "    # O TF-IDF considera a frequência e importância de cada palavra no texto, o que é útil para identificar palavras que são relevantes\n",
        "    # para o tema da classificação.\n",
        "    vectorizer = TfidfVectorizer(max_features=1000)\n",
        "    X = vectorizer.fit_transform(data[\"description\"])\n",
        "\n",
        "    # Treinamento do classificador\n",
        "    # Um classificador de regressão logística é treinado para classificar empresas como alinhadas ou não alinhadas com o tema com base no texto de suas soluções.\n",
        "    # Ou seja, atende == 1 e atende == 0\n",
        "    classificador = LogisticRegression()\n",
        "    classificador.fit(X, y)\n",
        "\n",
        "    # Classificação das empresas\n",
        "    empresas_classificadas = classificador.predict(X)\n",
        "\n",
        "    # Seleção das empresas alinhadas ao tema\n",
        "    empresas_selecionadas = data[empresas_classificadas == 1]\n",
        "\n",
        "    return empresas_selecionadas"
      ],
      "metadata": {
        "id": "Dgm7uOb2cq8H"
      },
      "id": "Dgm7uOb2cq8H",
      "execution_count": null,
      "outputs": []
    },
    {
      "cell_type": "markdown",
      "source": [
        "#Pacote Principal"
      ],
      "metadata": {
        "id": "87o-BIX8dn20"
      },
      "id": "87o-BIX8dn20"
    },
    {
      "cell_type": "code",
      "source": [
        "def main():\n",
        "  data = pd.read_csv(\"canada_amostra_OK.csv\")\n",
        "  # Se os pacotes criados (classificar e preprocesso) estivessem fora teriamos que importá-los com o comando import\n",
        "  empresas_selecionadas = classificar(data)\n",
        "\n",
        "  # Impressão das empresas selecionadas\n",
        "  print(\"Empresas selecionadas:\")\n",
        "  for empresa in empresas_selecionadas.itertuples():\n",
        "      print(f\"* {empresa.name}: {empresa.description}\")\n",
        "\n",
        "if __name__ == \"__main__\":\n",
        "  main()"
      ],
      "metadata": {
        "id": "Cbw6mdWzdtzS"
      },
      "id": "Cbw6mdWzdtzS",
      "execution_count": null,
      "outputs": []
    },
    {
      "cell_type": "markdown",
      "source": [
        "# TESTES"
      ],
      "metadata": {
        "id": "R-J5vLyJik8P"
      },
      "id": "R-J5vLyJik8P"
    },
    {
      "cell_type": "markdown",
      "source": [
        "# Teste 1: Validação do pré-processamento do texto\n",
        "Este teste verifica se o pacote pode pré-processar o texto corretamente.\n"
      ],
      "metadata": {
        "id": "iuZwz6_8iqSl"
      },
      "id": "iuZwz6_8iqSl"
    },
    {
      "cell_type": "code",
      "source": [
        "def teste_preprocesso():\n",
        "    # Criar um texto de teste\n",
        "    texto = \"Soluções de tratamento de água para melhorar a qualidade da água e a eficiência do uso da água\"\n",
        "\n",
        "    # Pré-processar o texto\n",
        "    texto_preprocessado = preprocesso(texto)\n",
        "\n",
        "    # Verificar se o texto foi pré-processado corretamente\n",
        "    assert texto_preprocessado == \"soluções tratamento água melhorar qualidade água eficiência uso água\""
      ],
      "metadata": {
        "id": "Or9DvxTbkKFi"
      },
      "id": "Or9DvxTbkKFi",
      "execution_count": null,
      "outputs": []
    },
    {
      "cell_type": "markdown",
      "source": [
        "#Teste 2: Validação da classificação das empresas\n",
        "Este teste verifica se o pacote pode classificar as empresas corretamente.\n",
        "\n"
      ],
      "metadata": {
        "id": "QOOjQlSjmLWv"
      },
      "id": "QOOjQlSjmLWv"
    },
    {
      "cell_type": "code",
      "source": [
        "def teste_classificar():\n",
        "    # Criar um conjunto de dados de teste\n",
        "    empresas = pd.DataFrame({\n",
        "        \"name\": [\"Empresa A\", \"Empresa B\", \"Empresa C\"],\n",
        "        \"description\": [\"Soluções de tratamento de água\", \"Soluções de reciclagem de resíduos\", \"Soluções de irrigação\"]\n",
        "    })\n",
        "\n",
        "    # Treinar o classificador\n",
        "    classificador = classificar.train(empresas[\"description\"], empresas[\"atende\"])\n",
        "\n",
        "    # Classificar as empresas\n",
        "    empresas_classificadas = classificar.predict(empresas[\"description\"])\n",
        "\n",
        "    # Verificar se as empresas foram classificadas corretamente\n",
        "    assert empresas_classificadas == [1, 0, 1]\n",
        "\n"
      ],
      "metadata": {
        "id": "FE0Si2HSmSFK"
      },
      "id": "FE0Si2HSmSFK",
      "execution_count": null,
      "outputs": []
    }
  ],
  "metadata": {
    "kernelspec": {
      "display_name": "Python 3 (ipykernel)",
      "language": "python",
      "name": "python3"
    },
    "language_info": {
      "codemirror_mode": {
        "name": "ipython",
        "version": 3
      },
      "file_extension": ".py",
      "mimetype": "text/x-python",
      "name": "python",
      "nbconvert_exporter": "python",
      "pygments_lexer": "ipython3",
      "version": "3.9.7"
    },
    "colab": {
      "provenance": []
    }
  },
  "nbformat": 4,
  "nbformat_minor": 5
}